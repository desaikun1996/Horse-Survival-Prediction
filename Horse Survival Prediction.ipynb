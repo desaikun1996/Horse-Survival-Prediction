{
 "cells": [
  {
   "cell_type": "code",
   "execution_count": 13,
   "id": "d8cfbe53",
   "metadata": {},
   "outputs": [],
   "source": [
    "import pandas as pd\n",
    "import numpy as np"
   ]
  },
  {
   "cell_type": "code",
   "execution_count": 14,
   "id": "032cb0f7",
   "metadata": {},
   "outputs": [],
   "source": [
    "df=pd.read_csv('horse.csv')"
   ]
  },
  {
   "cell_type": "code",
   "execution_count": 15,
   "id": "e72908ca",
   "metadata": {},
   "outputs": [
    {
     "data": {
      "text/html": [
       "<div>\n",
       "<style scoped>\n",
       "    .dataframe tbody tr th:only-of-type {\n",
       "        vertical-align: middle;\n",
       "    }\n",
       "\n",
       "    .dataframe tbody tr th {\n",
       "        vertical-align: top;\n",
       "    }\n",
       "\n",
       "    .dataframe thead th {\n",
       "        text-align: right;\n",
       "    }\n",
       "</style>\n",
       "<table border=\"1\" class=\"dataframe\">\n",
       "  <thead>\n",
       "    <tr style=\"text-align: right;\">\n",
       "      <th></th>\n",
       "      <th>surgery</th>\n",
       "      <th>age</th>\n",
       "      <th>hospital_number</th>\n",
       "      <th>rectal_temp</th>\n",
       "      <th>pulse</th>\n",
       "      <th>respiratory_rate</th>\n",
       "      <th>temp_of_extremities</th>\n",
       "      <th>peripheral_pulse</th>\n",
       "      <th>mucous_membrane</th>\n",
       "      <th>capillary_refill_time</th>\n",
       "      <th>...</th>\n",
       "      <th>packed_cell_volume</th>\n",
       "      <th>total_protein</th>\n",
       "      <th>abdomo_appearance</th>\n",
       "      <th>abdomo_protein</th>\n",
       "      <th>outcome</th>\n",
       "      <th>surgical_lesion</th>\n",
       "      <th>lesion_1</th>\n",
       "      <th>lesion_2</th>\n",
       "      <th>lesion_3</th>\n",
       "      <th>cp_data</th>\n",
       "    </tr>\n",
       "  </thead>\n",
       "  <tbody>\n",
       "    <tr>\n",
       "      <th>0</th>\n",
       "      <td>no</td>\n",
       "      <td>adult</td>\n",
       "      <td>530101</td>\n",
       "      <td>38.5</td>\n",
       "      <td>66.0</td>\n",
       "      <td>28.0</td>\n",
       "      <td>cool</td>\n",
       "      <td>reduced</td>\n",
       "      <td>NaN</td>\n",
       "      <td>more_3_sec</td>\n",
       "      <td>...</td>\n",
       "      <td>45.0</td>\n",
       "      <td>8.4</td>\n",
       "      <td>NaN</td>\n",
       "      <td>NaN</td>\n",
       "      <td>died</td>\n",
       "      <td>no</td>\n",
       "      <td>11300</td>\n",
       "      <td>0</td>\n",
       "      <td>0</td>\n",
       "      <td>no</td>\n",
       "    </tr>\n",
       "    <tr>\n",
       "      <th>1</th>\n",
       "      <td>yes</td>\n",
       "      <td>adult</td>\n",
       "      <td>534817</td>\n",
       "      <td>39.2</td>\n",
       "      <td>88.0</td>\n",
       "      <td>20.0</td>\n",
       "      <td>NaN</td>\n",
       "      <td>NaN</td>\n",
       "      <td>pale_cyanotic</td>\n",
       "      <td>less_3_sec</td>\n",
       "      <td>...</td>\n",
       "      <td>50.0</td>\n",
       "      <td>85.0</td>\n",
       "      <td>cloudy</td>\n",
       "      <td>2.0</td>\n",
       "      <td>euthanized</td>\n",
       "      <td>no</td>\n",
       "      <td>2208</td>\n",
       "      <td>0</td>\n",
       "      <td>0</td>\n",
       "      <td>no</td>\n",
       "    </tr>\n",
       "    <tr>\n",
       "      <th>2</th>\n",
       "      <td>no</td>\n",
       "      <td>adult</td>\n",
       "      <td>530334</td>\n",
       "      <td>38.3</td>\n",
       "      <td>40.0</td>\n",
       "      <td>24.0</td>\n",
       "      <td>normal</td>\n",
       "      <td>normal</td>\n",
       "      <td>pale_pink</td>\n",
       "      <td>less_3_sec</td>\n",
       "      <td>...</td>\n",
       "      <td>33.0</td>\n",
       "      <td>6.7</td>\n",
       "      <td>NaN</td>\n",
       "      <td>NaN</td>\n",
       "      <td>lived</td>\n",
       "      <td>no</td>\n",
       "      <td>0</td>\n",
       "      <td>0</td>\n",
       "      <td>0</td>\n",
       "      <td>yes</td>\n",
       "    </tr>\n",
       "    <tr>\n",
       "      <th>3</th>\n",
       "      <td>yes</td>\n",
       "      <td>young</td>\n",
       "      <td>5290409</td>\n",
       "      <td>39.1</td>\n",
       "      <td>164.0</td>\n",
       "      <td>84.0</td>\n",
       "      <td>cold</td>\n",
       "      <td>normal</td>\n",
       "      <td>dark_cyanotic</td>\n",
       "      <td>more_3_sec</td>\n",
       "      <td>...</td>\n",
       "      <td>48.0</td>\n",
       "      <td>7.2</td>\n",
       "      <td>serosanguious</td>\n",
       "      <td>5.3</td>\n",
       "      <td>died</td>\n",
       "      <td>yes</td>\n",
       "      <td>2208</td>\n",
       "      <td>0</td>\n",
       "      <td>0</td>\n",
       "      <td>yes</td>\n",
       "    </tr>\n",
       "    <tr>\n",
       "      <th>4</th>\n",
       "      <td>no</td>\n",
       "      <td>adult</td>\n",
       "      <td>530255</td>\n",
       "      <td>37.3</td>\n",
       "      <td>104.0</td>\n",
       "      <td>35.0</td>\n",
       "      <td>NaN</td>\n",
       "      <td>NaN</td>\n",
       "      <td>dark_cyanotic</td>\n",
       "      <td>more_3_sec</td>\n",
       "      <td>...</td>\n",
       "      <td>74.0</td>\n",
       "      <td>7.4</td>\n",
       "      <td>NaN</td>\n",
       "      <td>NaN</td>\n",
       "      <td>died</td>\n",
       "      <td>no</td>\n",
       "      <td>4300</td>\n",
       "      <td>0</td>\n",
       "      <td>0</td>\n",
       "      <td>no</td>\n",
       "    </tr>\n",
       "  </tbody>\n",
       "</table>\n",
       "<p>5 rows × 28 columns</p>\n",
       "</div>"
      ],
      "text/plain": [
       "  surgery    age  hospital_number  rectal_temp  pulse  respiratory_rate  \\\n",
       "0      no  adult           530101         38.5   66.0              28.0   \n",
       "1     yes  adult           534817         39.2   88.0              20.0   \n",
       "2      no  adult           530334         38.3   40.0              24.0   \n",
       "3     yes  young          5290409         39.1  164.0              84.0   \n",
       "4      no  adult           530255         37.3  104.0              35.0   \n",
       "\n",
       "  temp_of_extremities peripheral_pulse mucous_membrane capillary_refill_time  \\\n",
       "0                cool          reduced             NaN            more_3_sec   \n",
       "1                 NaN              NaN   pale_cyanotic            less_3_sec   \n",
       "2              normal           normal       pale_pink            less_3_sec   \n",
       "3                cold           normal   dark_cyanotic            more_3_sec   \n",
       "4                 NaN              NaN   dark_cyanotic            more_3_sec   \n",
       "\n",
       "   ... packed_cell_volume total_protein abdomo_appearance abdomo_protein  \\\n",
       "0  ...               45.0           8.4               NaN            NaN   \n",
       "1  ...               50.0          85.0            cloudy            2.0   \n",
       "2  ...               33.0           6.7               NaN            NaN   \n",
       "3  ...               48.0           7.2     serosanguious            5.3   \n",
       "4  ...               74.0           7.4               NaN            NaN   \n",
       "\n",
       "      outcome  surgical_lesion lesion_1 lesion_2  lesion_3  cp_data  \n",
       "0        died               no    11300        0         0       no  \n",
       "1  euthanized               no     2208        0         0       no  \n",
       "2       lived               no        0        0         0      yes  \n",
       "3        died              yes     2208        0         0      yes  \n",
       "4        died               no     4300        0         0       no  \n",
       "\n",
       "[5 rows x 28 columns]"
      ]
     },
     "execution_count": 15,
     "metadata": {},
     "output_type": "execute_result"
    }
   ],
   "source": [
    "df.head()"
   ]
  },
  {
   "cell_type": "code",
   "execution_count": 16,
   "id": "b7960524",
   "metadata": {},
   "outputs": [
    {
     "name": "stdout",
     "output_type": "stream",
     "text": [
      "<class 'pandas.core.frame.DataFrame'>\n",
      "RangeIndex: 299 entries, 0 to 298\n",
      "Data columns (total 28 columns):\n",
      " #   Column                 Non-Null Count  Dtype  \n",
      "---  ------                 --------------  -----  \n",
      " 0   surgery                299 non-null    object \n",
      " 1   age                    299 non-null    object \n",
      " 2   hospital_number        299 non-null    int64  \n",
      " 3   rectal_temp            239 non-null    float64\n",
      " 4   pulse                  275 non-null    float64\n",
      " 5   respiratory_rate       241 non-null    float64\n",
      " 6   temp_of_extremities    243 non-null    object \n",
      " 7   peripheral_pulse       230 non-null    object \n",
      " 8   mucous_membrane        252 non-null    object \n",
      " 9   capillary_refill_time  267 non-null    object \n",
      " 10  pain                   244 non-null    object \n",
      " 11  peristalsis            255 non-null    object \n",
      " 12  abdominal_distention   243 non-null    object \n",
      " 13  nasogastric_tube       195 non-null    object \n",
      " 14  nasogastric_reflux     193 non-null    object \n",
      " 15  nasogastric_reflux_ph  53 non-null     float64\n",
      " 16  rectal_exam_feces      197 non-null    object \n",
      " 17  abdomen                181 non-null    object \n",
      " 18  packed_cell_volume     270 non-null    float64\n",
      " 19  total_protein          266 non-null    float64\n",
      " 20  abdomo_appearance      134 non-null    object \n",
      " 21  abdomo_protein         101 non-null    float64\n",
      " 22  outcome                299 non-null    object \n",
      " 23  surgical_lesion        299 non-null    object \n",
      " 24  lesion_1               299 non-null    int64  \n",
      " 25  lesion_2               299 non-null    int64  \n",
      " 26  lesion_3               299 non-null    int64  \n",
      " 27  cp_data                299 non-null    object \n",
      "dtypes: float64(7), int64(4), object(17)\n",
      "memory usage: 65.5+ KB\n"
     ]
    }
   ],
   "source": [
    "df.info()"
   ]
  },
  {
   "cell_type": "code",
   "execution_count": 17,
   "id": "187fd5e0",
   "metadata": {},
   "outputs": [
    {
     "data": {
      "text/plain": [
       "Index(['surgery', 'age', 'hospital_number', 'rectal_temp', 'pulse',\n",
       "       'respiratory_rate', 'temp_of_extremities', 'peripheral_pulse',\n",
       "       'mucous_membrane', 'capillary_refill_time', 'pain', 'peristalsis',\n",
       "       'abdominal_distention', 'nasogastric_tube', 'nasogastric_reflux',\n",
       "       'nasogastric_reflux_ph', 'rectal_exam_feces', 'abdomen',\n",
       "       'packed_cell_volume', 'total_protein', 'abdomo_appearance',\n",
       "       'abdomo_protein', 'outcome', 'surgical_lesion', 'lesion_1', 'lesion_2',\n",
       "       'lesion_3', 'cp_data'],\n",
       "      dtype='object')"
      ]
     },
     "execution_count": 17,
     "metadata": {},
     "output_type": "execute_result"
    }
   ],
   "source": [
    "df.columns"
   ]
  },
  {
   "cell_type": "markdown",
   "id": "1339d30f",
   "metadata": {},
   "source": [
    "#### The 'Outcome' column is the target column here."
   ]
  },
  {
   "cell_type": "markdown",
   "id": "46ba7b3e",
   "metadata": {},
   "source": [
    "## Preprocessing"
   ]
  },
  {
   "cell_type": "markdown",
   "id": "143a3da7",
   "metadata": {},
   "source": [
    "### Split data into X and y"
   ]
  },
  {
   "cell_type": "code",
   "execution_count": 18,
   "id": "0daecfef",
   "metadata": {},
   "outputs": [],
   "source": [
    "y=df['outcome'].copy()\n",
    "X=df.drop('outcome',axis=1).copy()"
   ]
  },
  {
   "cell_type": "markdown",
   "id": "4605183c",
   "metadata": {},
   "source": [
    "### Categorizing column as Binary, Ordinal and Nominal"
   ]
  },
  {
   "cell_type": "code",
   "execution_count": 19,
   "id": "517d01ef",
   "metadata": {},
   "outputs": [
    {
     "data": {
      "text/plain": [
       "{'surgery': ['no', 'yes'],\n",
       " 'age': ['adult', 'young'],\n",
       " 'temp_of_extremities': ['cool', nan, 'normal', 'cold', 'warm'],\n",
       " 'peripheral_pulse': ['reduced', nan, 'normal', 'absent', 'increased'],\n",
       " 'mucous_membrane': [nan,\n",
       "  'pale_cyanotic',\n",
       "  'pale_pink',\n",
       "  'dark_cyanotic',\n",
       "  'normal_pink',\n",
       "  'bright_red',\n",
       "  'bright_pink'],\n",
       " 'capillary_refill_time': ['more_3_sec', 'less_3_sec', nan, '3'],\n",
       " 'pain': ['extreme_pain',\n",
       "  'mild_pain',\n",
       "  'depressed',\n",
       "  nan,\n",
       "  'severe_pain',\n",
       "  'alert'],\n",
       " 'peristalsis': ['absent', 'hypomotile', nan, 'hypermotile', 'normal'],\n",
       " 'abdominal_distention': ['severe', 'slight', 'none', nan, 'moderate'],\n",
       " 'nasogastric_tube': [nan, 'none', 'slight', 'significant'],\n",
       " 'nasogastric_reflux': [nan, 'less_1_liter', 'none', 'more_1_liter'],\n",
       " 'rectal_exam_feces': ['decreased', 'absent', 'normal', nan, 'increased'],\n",
       " 'abdomen': ['distend_large', 'other', 'normal', nan, 'firm', 'distend_small'],\n",
       " 'abdomo_appearance': [nan, 'cloudy', 'serosanguious', 'clear'],\n",
       " 'surgical_lesion': ['no', 'yes'],\n",
       " 'cp_data': ['no', 'yes']}"
      ]
     },
     "execution_count": 19,
     "metadata": {},
     "output_type": "execute_result"
    }
   ],
   "source": [
    "{column: list(X[column].unique()) for column in X.select_dtypes('object').columns}"
   ]
  },
  {
   "cell_type": "markdown",
   "id": "52a8b0f3",
   "metadata": {},
   "source": [
    "### Functions to convert categorical data to numerical"
   ]
  },
  {
   "cell_type": "code",
   "execution_count": 20,
   "id": "9040b9fd",
   "metadata": {},
   "outputs": [],
   "source": [
    "def binary_encode(df, columns, positive_values):\n",
    "    df=df.copy()\n",
    "    for column, positive_value in zip(columns, positive_values):\n",
    "        df[column] = df[column].apply(lambda x: 1 if x==positive_value else 0)\n",
    "    return df\n",
    "    \n",
    "def ordinal_encode(df, columns, orderings):\n",
    "    df=df.copy()\n",
    "    for column, ordering in zip(columns, orderings):\n",
    "        df[column] = df[column].apply(lambda x: ordering.index(x))\n",
    "    return df\n",
    "    \n",
    "def onehot_encode(df, columns, prefixes):\n",
    "    df=df.copy()\n",
    "    for column, prefix in zip(columns, prefixes):\n",
    "        dummies = pd.get_dummies(df[column], prefix=prefix)\n",
    "        df = pd.concat([df, dummies], axis=1)\n",
    "        df = df.drop(column, axis=1)\n",
    "    return df"
   ]
  },
  {
   "cell_type": "markdown",
   "id": "b94f2479",
   "metadata": {},
   "source": [
    "### Categorizing all the categorical features into Binary, Ordinal and Nominal Features for better handling encoding and NULL values."
   ]
  },
  {
   "cell_type": "code",
   "execution_count": 21,
   "id": "f61540ff",
   "metadata": {},
   "outputs": [],
   "source": [
    "binary_features = [\n",
    "    'surgery',\n",
    "    'age',\n",
    "    'surgical_lesion',\n",
    "    'cp_data'\n",
    "]\n",
    "positive_values = [\n",
    "    'yes',\n",
    "    'adult',\n",
    "    'yes',\n",
    "    'yes'\n",
    "]\n",
    "\n",
    "ordinal_features = [\n",
    "    'temp_of_extremities',\n",
    "    'peripheral_pulse',\n",
    "    'capillary_refill_time',\n",
    "    'pain',\n",
    "    'peristalsis',\n",
    "    'abdominal_distention',\n",
    "    'nasogastric_tube',\n",
    "    'rectal_exam_feces' \n",
    "]\n",
    "orderings = [\n",
    "    ['cold', 'cool', 'normal', 'warm'],\n",
    "    ['absent', 'reduced', 'normal', 'increased'],\n",
    "    ['less_3_sec', '3', 'more_3_sec'],\n",
    "    ['alert', 'depressed', 'mild_pain', 'severe_pain', 'extreme_pain'],\n",
    "    ['absent', 'hypomotile', 'normal', 'hypermotile'],\n",
    "    ['none', 'slight', 'moderate', 'severe'],\n",
    "    ['none', 'slight', 'significant'],\n",
    "    ['none', 'less_1_litre', 'more_1_litre'],\n",
    "    ['absent', 'decreased', 'normal', 'increased']\n",
    "]\n",
    "\n",
    "nominal_features = [\n",
    "    'mucous_membrane',\n",
    "    'abdomen',\n",
    "    'abdomo_appearance'\n",
    "]\n",
    "prefixes = [\n",
    "    'MM',\n",
    "    'AB',\n",
    "    'AA'\n",
    "]"
   ]
  },
  {
   "cell_type": "markdown",
   "id": "5206ac9e",
   "metadata": {},
   "source": [
    "### Handling NULL values in all columns other than nominal columns.\n",
    "    - For all the categorical features except the nominal features, we will be replacing NULLs with mode of the column.\n",
    "    - For all Numeric features, we will replace the NULL by Mean of the column"
   ]
  },
  {
   "cell_type": "markdown",
   "id": "683344db",
   "metadata": {},
   "source": []
  },
  {
   "cell_type": "code",
   "execution_count": 22,
   "id": "65b9e0b1",
   "metadata": {},
   "outputs": [],
   "source": [
    "for column in df.columns:\n",
    "    if column in df.select_dtypes('object').columns:\n",
    "        if column not in nominal_features:\n",
    "            df[column] = df[column].fillna(df[column].mode()[0])\n",
    "    else:\n",
    "        df[column] = df[column].fillna(df[column].mean())"
   ]
  },
  {
   "cell_type": "code",
   "execution_count": 24,
   "id": "b999a689",
   "metadata": {},
   "outputs": [
    {
     "data": {
      "text/plain": [
       "surgery                    0\n",
       "age                        0\n",
       "hospital_number            0\n",
       "rectal_temp                0\n",
       "pulse                      0\n",
       "respiratory_rate           0\n",
       "temp_of_extremities        0\n",
       "peripheral_pulse           0\n",
       "mucous_membrane           47\n",
       "capillary_refill_time      0\n",
       "pain                       0\n",
       "peristalsis                0\n",
       "abdominal_distention       0\n",
       "nasogastric_tube           0\n",
       "nasogastric_reflux         0\n",
       "nasogastric_reflux_ph      0\n",
       "rectal_exam_feces          0\n",
       "abdomen                  118\n",
       "packed_cell_volume         0\n",
       "total_protein              0\n",
       "abdomo_appearance        165\n",
       "abdomo_protein             0\n",
       "outcome                    0\n",
       "surgical_lesion            0\n",
       "lesion_1                   0\n",
       "lesion_2                   0\n",
       "lesion_3                   0\n",
       "cp_data                    0\n",
       "dtype: int64"
      ]
     },
     "execution_count": 24,
     "metadata": {},
     "output_type": "execute_result"
    }
   ],
   "source": [
    "df.isnull().sum()"
   ]
  },
  {
   "cell_type": "markdown",
   "id": "f0ab9360",
   "metadata": {},
   "source": [
    "#### We are now done with removing all the NULL values in all the columns except the nominal columns"
   ]
  },
  {
   "cell_type": "code",
   "execution_count": null,
   "id": "34474f22",
   "metadata": {},
   "outputs": [],
   "source": []
  }
 ],
 "metadata": {
  "kernelspec": {
   "display_name": "Python 3",
   "language": "python",
   "name": "python3"
  },
  "language_info": {
   "codemirror_mode": {
    "name": "ipython",
    "version": 3
   },
   "file_extension": ".py",
   "mimetype": "text/x-python",
   "name": "python",
   "nbconvert_exporter": "python",
   "pygments_lexer": "ipython3",
   "version": "3.9.1"
  }
 },
 "nbformat": 4,
 "nbformat_minor": 5
}
